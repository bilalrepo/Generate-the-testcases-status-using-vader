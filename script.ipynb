{
 "cells": [
  {
   "cell_type": "code",
   "execution_count": 16,
   "metadata": {},
   "outputs": [],
   "source": [
    "import xlrd\n",
    "import xlsxwriter\n",
    "from vaderSentiment import vaderSentiment as vs"
   ]
  },
  {
   "cell_type": "code",
   "execution_count": 76,
   "metadata": {},
   "outputs": [],
   "source": [
    "class TestCaseStatus:\n",
    "    \"\"\"\n",
    "    Documentation: \n",
    "    This class is designed to predict the status of executed testcase whether it is pass/fail \n",
    "    and also to generate the new file with predicted status.\n",
    "    \"\"\"\n",
    "    def __init__(self, workbookName, worksheetIndex):\n",
    "        self.workbookName = workbookName\n",
    "        self.worksheetIndex = worksheetIndex\n",
    "    \n",
    "    def getWorksheet(self):\n",
    "        workbook = xlrd.open_workbook(self.workbookName)\n",
    "        worksheet = workbook.sheet_by_index(self.worksheetIndex)\n",
    "        return worksheet \n",
    "    \n",
    "    def getActualOutput(self, worksheet):\n",
    "        acutalOutput_ColIndex = list(map(lambda x:x.lower(),worksheet.row_values(0))).index('Actual Output'.lower())\n",
    "        actualOutputs = worksheet.col_values(acutalOutput_ColIndex )[1:]\n",
    "        return actualOutputs\n",
    "    \n",
    "    def getPredictionResult(self):\n",
    "        worksheet = self.getWorksheet()\n",
    "        actualOutputs = self.getActualOutput(worksheet)\n",
    "        sa = vs.SentimentIntensityAnalyzer()\n",
    "        result = list(map(lambda x : \"Not Executed\" if not x else \"Failed\" if sa.polarity_scores(x)['compound'] <= -0.05 else \"Passed\" , actualOutputs))\n",
    "        result.insert(0, \"Status- Pass/Fail\")\n",
    "        return result\n",
    "    \n",
    "    def drawChart(self, newWorkbook, newWorksheet, result):\n",
    "        status = [ (i,s, result.count(s)) for i,s in enumerate([\"Passed\", \"Failed\", \"Not Executed\"])]\n",
    "        lastRow = len(result)+5\n",
    "        newWorksheet.write_row(lastRow-1, 0, [\"Status\",\"Count\"], newWorkbook.add_format({'bold': 1}))\n",
    "        for i,s,count in status:\n",
    "            newWorksheet.write(lastRow+i, 0, s)\n",
    "            newWorksheet.write(lastRow+i, 1, count)\n",
    "        \n",
    "        chart = newWorkbook.add_chart({'type': 'pie'})\n",
    "        chart.add_series({\n",
    "            'name':       'Pie testcase data',\n",
    "            'categories': ['Sheet1', lastRow, 0, lastRow+2, 0],\n",
    "            'values':     ['Sheet1', lastRow, 1, lastRow+2, 1],\n",
    "        })\n",
    "        \n",
    "        chart.set_title({'name': 'Test Case Execution Status'})\n",
    "        chart.set_style(10)\n",
    "        newWorksheet.insert_chart('C2', chart, {'x_offset': 50, 'y_offset': lastRow*15})   \n",
    "    \n",
    "    def generateFile(self, result, fileName):\n",
    "        worksheet = self.getWorksheet()\n",
    "        data = [[worksheet.cell_value(r, c)  if c!=worksheet.ncols else result[r] for c in range(worksheet.ncols+1) ] for r in range(worksheet.nrows)]\n",
    "        newWorkbook = xlsxwriter.Workbook(fileName)\n",
    "        newWorksheet = newWorkbook.add_worksheet()\n",
    "        cellFormat = newWorkbook.add_format()\n",
    "        cellFormat.set_pattern(1)\n",
    "        cellFormat.set_bg_color('#ff0000')\n",
    "        \n",
    "        for i,row in enumerate(data):\n",
    "            if row[-1] == \"Failed\":\n",
    "                newWorksheet.write_row(i, 0, row, cellFormat)\n",
    "            else:\n",
    "                newWorksheet.write_row(i, 0, row)\n",
    "       \n",
    "        self.drawChart(newWorkbook,newWorksheet,result)\n",
    "     \n",
    "        newWorkbook.close()"
   ]
  },
  {
   "cell_type": "code",
   "execution_count": 77,
   "metadata": {},
   "outputs": [],
   "source": [
    "WORKBOOK_NAME = \"testcase.xlsx\"\n",
    "WORKSHEET_INDEX = 0\n",
    "NEWFILE_NAME = 'testcaseStatus.xlsx'\n",
    "tcS = TestCaseStatus(WORKBOOK_NAME, WORKSHEET_INDEX)\n",
    "result = tcS.getPredictionResult()\n",
    "tcS.generateFile(result, NEWFILE_NAME)"
   ]
  },
  {
   "cell_type": "code",
   "execution_count": 78,
   "metadata": {},
   "outputs": [
    {
     "name": "stdout",
     "output_type": "stream",
     "text": [
      "\n",
      "    Documentation: \n",
      "    This class is designed to predict the status of executed testcase whether it is pass/fail \n",
      "    and also to generate the new file with predicted status.\n",
      "    \n"
     ]
    }
   ],
   "source": [
    "print(tcS.__doc__)"
   ]
  },
  {
   "cell_type": "code",
   "execution_count": null,
   "metadata": {},
   "outputs": [],
   "source": []
  },
  {
   "cell_type": "code",
   "execution_count": null,
   "metadata": {},
   "outputs": [],
   "source": []
  }
 ],
 "metadata": {
  "kernelspec": {
   "display_name": "conda env machinelearning",
   "language": "python",
   "name": "machinelearning"
  },
  "language_info": {
   "codemirror_mode": {
    "name": "ipython",
    "version": 3
   },
   "file_extension": ".py",
   "mimetype": "text/x-python",
   "name": "python",
   "nbconvert_exporter": "python",
   "pygments_lexer": "ipython3",
   "version": "3.6.4"
  }
 },
 "nbformat": 4,
 "nbformat_minor": 2
}
